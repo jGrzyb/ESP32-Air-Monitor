{
 "cells": [
  {
   "cell_type": "code",
   "execution_count": 11,
   "metadata": {},
   "outputs": [],
   "source": [
    "import sqlite3\n",
    "\n",
    "def clear_database(db_path):\n",
    "    # Connect to the database\n",
    "    conn = sqlite3.connect(db_path)\n",
    "    cursor = conn.cursor()\n",
    "    \n",
    "    # Get the list of all tables\n",
    "    cursor.execute(\"SELECT name FROM sqlite_master WHERE type='table';\")\n",
    "    tables = cursor.fetchall()\n",
    "    \n",
    "    # Iterate over the tables and delete all rows\n",
    "    for table_name in tables:\n",
    "        cursor.execute(f\"DELETE FROM {table_name[0]};\")\n",
    "        conn.commit()\n",
    "    \n",
    "    # Close the connection\n",
    "    conn.close()\n",
    "\n",
    "# Usage\n",
    "clear_database('instance/app.db')"
   ]
  },
  {
   "cell_type": "code",
   "execution_count": 1,
   "metadata": {},
   "outputs": [
    {
     "name": "stdout",
     "output_type": "stream",
     "text": [
      "Contents of table user:\n",
      "(1, 'jgrzyb', 'pass')\n",
      "\n",
      "\n",
      "Contents of table device:\n",
      "(1, '11:22:33:44:55:66', 1)\n",
      "\n",
      "\n",
      "Contents of table sensor_data:\n",
      "\n",
      "\n"
     ]
    }
   ],
   "source": [
    "import sqlite3\n",
    "\n",
    "def show_database_contents(db_path):\n",
    "    # Connect to the database\n",
    "    conn = sqlite3.connect(db_path)\n",
    "    cursor = conn.cursor()\n",
    "    \n",
    "    # Get the list of all tables\n",
    "    cursor.execute(\"SELECT name FROM sqlite_master WHERE type='table';\")\n",
    "    tables = cursor.fetchall()\n",
    "    \n",
    "    # Iterate over the tables and print their contents\n",
    "    for table_name in tables:\n",
    "        print(f\"Contents of table {table_name[0]}:\")\n",
    "        cursor.execute(f\"SELECT * FROM {table_name[0]};\")\n",
    "        rows = cursor.fetchall()\n",
    "        for row in rows:\n",
    "            print(row)\n",
    "        print(\"\\n\")\n",
    "    \n",
    "    # Close the connection\n",
    "    conn.close()\n",
    "\n",
    "# Usage\n",
    "show_database_contents('instance/app.db')"
   ]
  }
 ],
 "metadata": {
  "kernelspec": {
   "display_name": "esp",
   "language": "python",
   "name": "python3"
  },
  "language_info": {
   "codemirror_mode": {
    "name": "ipython",
    "version": 3
   },
   "file_extension": ".py",
   "mimetype": "text/x-python",
   "name": "python",
   "nbconvert_exporter": "python",
   "pygments_lexer": "ipython3",
   "version": "3.13.0"
  }
 },
 "nbformat": 4,
 "nbformat_minor": 2
}
